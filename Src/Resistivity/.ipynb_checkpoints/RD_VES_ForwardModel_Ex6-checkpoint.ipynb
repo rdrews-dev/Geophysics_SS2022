{
 "cells": [
  {
   "cell_type": "code",
   "execution_count": 1,
   "metadata": {},
   "outputs": [],
   "source": [
    "# Checkout www.pygimli.org for more examples\n",
    "%matplotlib inline"
   ]
  },
  {
   "cell_type": "markdown",
   "metadata": {},
   "source": [
    "\n",
    "VES inversion for a blocky model\n",
    "================================\n",
    "\n",
    "This tutorial shows how an built-in forward operator is used for inversion.\n",
    "A DC 1D (VES) modelling is used to generate data, noisify and invert them.\n"
   ]
  },
  {
   "cell_type": "markdown",
   "metadata": {},
   "source": [
    "We import numpy, matplotlib and the 1D plotting function\n",
    "\n"
   ]
  },
  {
   "cell_type": "code",
   "execution_count": 2,
   "metadata": {},
   "outputs": [],
   "source": [
    "import numpy as np\n",
    "import matplotlib.pyplot as plt\n",
    "\n",
    "import pygimli as pg\n",
    "from pygimli.viewer.mpl import drawModel1D"
   ]
  },
  {
   "cell_type": "markdown",
   "metadata": {},
   "source": [
    "some definitions before (model, data and error)\n",
    "\n"
   ]
  },
  {
   "cell_type": "code",
   "execution_count": 3,
   "metadata": {},
   "outputs": [],
   "source": [
    "nlay = 2  # number of layers\n",
    "synres = [500., 100.]# synthetic resistivity\n",
    "synthk = [1.5]  # synthetic thickness (nlay-th layer is infinite)\n",
    "ab2 = np.logspace(-1, 2, 20)  # AB/2 distance (current electrodes)\n",
    "mn2 = ab2 / 3.  # MN/2 distance (potential electrodes)"
   ]
  },
  {
   "cell_type": "markdown",
   "metadata": {},
   "source": [
    "initialize the forward modelling operator\n",
    "\n"
   ]
  },
  {
   "cell_type": "code",
   "execution_count": 4,
   "metadata": {},
   "outputs": [],
   "source": [
    "f = pg.core.DC1dModelling(nlay, ab2, mn2)"
   ]
  },
  {
   "cell_type": "code",
   "execution_count": null,
   "metadata": {},
   "outputs": [],
   "source": []
  },
  {
   "cell_type": "markdown",
   "metadata": {},
   "source": [
    "the forward operator can be called by f.response(model) or simply f(model)\n",
    "\n"
   ]
  },
  {
   "cell_type": "code",
   "execution_count": 5,
   "metadata": {},
   "outputs": [
    {
     "data": {
      "text/plain": [
       "[<matplotlib.lines.Line2D at 0x7fe09c7cfc50>]"
      ]
     },
     "execution_count": 5,
     "metadata": {},
     "output_type": "execute_result"
    },
    {
     "data": {
      "image/png": "[encoded data removed]",
      "text/plain": [
       "<Figure size 576x432 with 2 Axes>"
      ]
     },
     "metadata": {
      "needs_background": "light"
     },
     "output_type": "display_data"
    }
   ],
   "source": [
    "rhoa = f(synthk+synres)\n",
    "fig, ax = plt.subplots(ncols=2, figsize=(8, 6))  # two-column figure\n",
    "drawModel1D(ax[0], synthk, synres, plot='semilogx', color='r')\n",
    "ax[1].loglog(ab2,rhoa, 'rx-', label='data')  # sounding curve"
   ]
  },
  {
   "cell_type": "code",
   "execution_count": null,
   "metadata": {},
   "outputs": [],
   "source": []
  },
  {
   "cell_type": "code",
   "execution_count": null,
   "metadata": {},
   "outputs": [],
   "source": []
  }
 ],
 "metadata": {
  "interpreter": {
   "hash": "c83120b84853438d5225fa03d81b15571bbb4816905f9b038766d87e28f0ec40"
  },
  "kernelspec": {
   "display_name": "Python 3",
   "language": "python",
   "name": "python3"
  },
  "language_info": {
   "codemirror_mode": {
    "name": "ipython",
    "version": 3
   },
   "file_extension": ".py",
   "mimetype": "text/x-python",
   "name": "python",
   "nbconvert_exporter": "python",
   "pygments_lexer": "ipython3",
   "version": "3.7.10"
  }
 },
 "nbformat": 4,
 "nbformat_minor": 1
}
